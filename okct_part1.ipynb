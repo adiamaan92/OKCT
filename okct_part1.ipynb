{
 "cells": [
  {
   "cell_type": "markdown",
   "metadata": {},
   "source": [
    "In game Win Probability Modelling:\n",
    "============================================\n",
    "Part 1 : Data Preprocessing, Feature Engineering\n",
    "---------------------------------------------------"
   ]
  },
  {
   "cell_type": "code",
   "execution_count": 1,
   "metadata": {
    "collapsed": true
   },
   "outputs": [],
   "source": [
    "import pandas as pd\n",
    "import numpy as np\n",
    "import re\n",
    "import matplotlib.pyplot as plt\n",
    "from collections import deque\n",
    "import codecs\n",
    "import math"
   ]
  },
  {
   "cell_type": "code",
   "execution_count": 2,
   "metadata": {},
   "outputs": [
    {
     "data": {
      "text/html": [
       "<style>.container { width:80% !important; }</style>"
      ],
      "text/plain": [
       "<IPython.core.display.HTML object>"
      ]
     },
     "metadata": {},
     "output_type": "display_data"
    }
   ],
   "source": [
    "# Setting display priorities, might cause security issues because of the raw html injection !\n",
    "from IPython.core.display import display, HTML\n",
    "# from IPython.core.interactiveshell import InteractiveShell\n",
    "# InteractiveShell.ast_node_interactivity = \"all\"\n",
    "display(HTML(\"<style>.container { width:80% !important; }</style>\")) # comment for security issues\n",
    "np.set_printoptions(precision=4)\n",
    "pd.set_option('display.max_columns',50)"
   ]
  },
  {
   "cell_type": "markdown",
   "metadata": {},
   "source": [
    "Data Preprocessing and Feature Engineering:\n",
    "---------------------------------------------\n",
    "\n",
    "Most of the features have to extracted from the data points by using regular expression.\n",
    "A detailed list of final features and their description will be available in the file, `feature_dictionary.txt`  \n",
    "The features are seperated into three families,  \n",
    "\n",
    "1) **In game features** : Features that are extracted from the current data records and the records that occured before it  \n",
    "2) **In season features** : Features that are extracted from previous games of the same regualar season  \n",
    "3) **Pre Season features (External Data)** : External data from the previous year regular season performance. For 2016 I used 2014-2015 regular season hollinger stats  and for 2017 games I used 2015-2016 regualar season [hollinger stats](http://www.espn.com/nba/hollinger/teamstats)  \n",
    "4) **Player features**: [Hollinger stats for players](http://insider.espn.com/nba/hollinger/statistics) is used in this segment. \n"
   ]
  },
  {
   "cell_type": "code",
   "execution_count": 3,
   "metadata": {},
   "outputs": [
    {
     "data": {
      "text/plain": [
       "(294366, 18)"
      ]
     },
     "execution_count": 3,
     "metadata": {},
     "output_type": "execute_result"
    }
   ],
   "source": [
    "# Reading data\n",
    "data = pd.read_csv(\"pbp.csv\")\n",
    "len(np.unique(data['game_id'].values))\n",
    "data.shape"
   ]
  },
  {
   "cell_type": "markdown",
   "metadata": {},
   "source": [
    "From the score field we extract `score_difference` and `score_diff_percentile`\n",
    "and we convert the time to seconds as `remaining_time`\n",
    "\n",
    "$$score\\ difference = away\\ score - home\\ score $$\n",
    "$$score\\ difference\\ percentile = \\frac{away\\ score  - home\\ score}{away\\ score + home\\ score}$$"
   ]
  },
  {
   "cell_type": "code",
   "execution_count": 4,
   "metadata": {},
   "outputs": [
    {
     "name": "stderr",
     "output_type": "stream",
     "text": [
      "C:\\Users\\Adiamaan Keerthi\\Anaconda3\\lib\\site-packages\\ipykernel\\__main__.py:2: FutureWarning: currently extract(expand=None) means expand=False (return Index/Series/DataFrame) but in a future version of pandas this will be changed to expand=True (return DataFrame)\n",
      "  from ipykernel import kernelapp as app\n",
      "C:\\Users\\Adiamaan Keerthi\\Anaconda3\\lib\\site-packages\\ipykernel\\__main__.py:15: FutureWarning: currently extract(expand=None) means expand=False (return Index/Series/DataFrame) but in a future version of pandas this will be changed to expand=True (return DataFrame)\n"
     ]
    },
    {
     "data": {
      "text/html": [
       "<div>\n",
       "<table border=\"1\" class=\"dataframe\">\n",
       "  <thead>\n",
       "    <tr style=\"text-align: right;\">\n",
       "      <th></th>\n",
       "      <th>sequence_id</th>\n",
       "      <th>game_id</th>\n",
       "      <th>period</th>\n",
       "      <th>play_clock</th>\n",
       "      <th>home_description</th>\n",
       "      <th>away_description</th>\n",
       "      <th>score</th>\n",
       "      <th>player1_id</th>\n",
       "      <th>player1_name</th>\n",
       "      <th>player1_team</th>\n",
       "      <th>player2_id</th>\n",
       "      <th>player2_name</th>\n",
       "      <th>player2_team</th>\n",
       "      <th>player3_id</th>\n",
       "      <th>player3_name</th>\n",
       "      <th>player3_team</th>\n",
       "      <th>event_type</th>\n",
       "      <th>event_description</th>\n",
       "      <th>remaining_time</th>\n",
       "      <th>score_difference</th>\n",
       "      <th>score_diff_percentile</th>\n",
       "    </tr>\n",
       "  </thead>\n",
       "  <tbody>\n",
       "    <tr>\n",
       "      <th>0</th>\n",
       "      <td>0</td>\n",
       "      <td>21500001</td>\n",
       "      <td>4</td>\n",
       "      <td>12:00</td>\n",
       "      <td>NaN</td>\n",
       "      <td>NaN</td>\n",
       "      <td>82 - 66</td>\n",
       "      <td>0</td>\n",
       "      <td>NaN</td>\n",
       "      <td>NaN</td>\n",
       "      <td>0</td>\n",
       "      <td>NaN</td>\n",
       "      <td>NaN</td>\n",
       "      <td>0</td>\n",
       "      <td>NaN</td>\n",
       "      <td>NaN</td>\n",
       "      <td>Start Period</td>\n",
       "      <td>NaN</td>\n",
       "      <td>720</td>\n",
       "      <td>16</td>\n",
       "      <td>0.108108</td>\n",
       "    </tr>\n",
       "    <tr>\n",
       "      <th>1</th>\n",
       "      <td>1</td>\n",
       "      <td>21500001</td>\n",
       "      <td>4</td>\n",
       "      <td>11:44</td>\n",
       "      <td>NaN</td>\n",
       "      <td>Baynes  Dunk (2 PTS) (Ilyasova 3 AST)</td>\n",
       "      <td>84 - 66</td>\n",
       "      <td>203382</td>\n",
       "      <td>Aron Baynes</td>\n",
       "      <td>DET</td>\n",
       "      <td>101141</td>\n",
       "      <td>Ersan Ilyasova</td>\n",
       "      <td>DET</td>\n",
       "      <td>0</td>\n",
       "      <td>NaN</td>\n",
       "      <td>NaN</td>\n",
       "      <td>Made Shot</td>\n",
       "      <td>NaN</td>\n",
       "      <td>704</td>\n",
       "      <td>18</td>\n",
       "      <td>0.120000</td>\n",
       "    </tr>\n",
       "    <tr>\n",
       "      <th>2</th>\n",
       "      <td>2</td>\n",
       "      <td>21500001</td>\n",
       "      <td>4</td>\n",
       "      <td>11:29</td>\n",
       "      <td>Schroder 2' Driving Finger Roll Layup (16 PTS)</td>\n",
       "      <td>NaN</td>\n",
       "      <td>84 - 68</td>\n",
       "      <td>203471</td>\n",
       "      <td>Dennis Schroder</td>\n",
       "      <td>ATL</td>\n",
       "      <td>0</td>\n",
       "      <td>NaN</td>\n",
       "      <td>NaN</td>\n",
       "      <td>0</td>\n",
       "      <td>NaN</td>\n",
       "      <td>NaN</td>\n",
       "      <td>Made Shot</td>\n",
       "      <td>NaN</td>\n",
       "      <td>689</td>\n",
       "      <td>16</td>\n",
       "      <td>0.105263</td>\n",
       "    </tr>\n",
       "    <tr>\n",
       "      <th>3</th>\n",
       "      <td>3</td>\n",
       "      <td>21500001</td>\n",
       "      <td>4</td>\n",
       "      <td>11:17</td>\n",
       "      <td>Schroder STEAL (2 STL)</td>\n",
       "      <td>Blake Lost Ball Turnover (P3.T13)</td>\n",
       "      <td>84 - 68</td>\n",
       "      <td>2581</td>\n",
       "      <td>Steve Blake</td>\n",
       "      <td>DET</td>\n",
       "      <td>203471</td>\n",
       "      <td>Dennis Schroder</td>\n",
       "      <td>ATL</td>\n",
       "      <td>0</td>\n",
       "      <td>NaN</td>\n",
       "      <td>NaN</td>\n",
       "      <td>Turnover</td>\n",
       "      <td>Lost Ball</td>\n",
       "      <td>677</td>\n",
       "      <td>16</td>\n",
       "      <td>0.105263</td>\n",
       "    </tr>\n",
       "    <tr>\n",
       "      <th>4</th>\n",
       "      <td>4</td>\n",
       "      <td>21500001</td>\n",
       "      <td>4</td>\n",
       "      <td>11:14</td>\n",
       "      <td>NaN</td>\n",
       "      <td>Ilyasova S.FOUL (P3.T1) (Z.Zarba)</td>\n",
       "      <td>84 - 68</td>\n",
       "      <td>101141</td>\n",
       "      <td>Ersan Ilyasova</td>\n",
       "      <td>DET</td>\n",
       "      <td>203471</td>\n",
       "      <td>Dennis Schroder</td>\n",
       "      <td>ATL</td>\n",
       "      <td>0</td>\n",
       "      <td>NaN</td>\n",
       "      <td>NaN</td>\n",
       "      <td>Foul</td>\n",
       "      <td>Shooting</td>\n",
       "      <td>674</td>\n",
       "      <td>16</td>\n",
       "      <td>0.105263</td>\n",
       "    </tr>\n",
       "  </tbody>\n",
       "</table>\n",
       "</div>"
      ],
      "text/plain": [
       "   sequence_id   game_id  period play_clock  \\\n",
       "0            0  21500001       4      12:00   \n",
       "1            1  21500001       4      11:44   \n",
       "2            2  21500001       4      11:29   \n",
       "3            3  21500001       4      11:17   \n",
       "4            4  21500001       4      11:14   \n",
       "\n",
       "                                 home_description  \\\n",
       "0                                             NaN   \n",
       "1                                             NaN   \n",
       "2  Schroder 2' Driving Finger Roll Layup (16 PTS)   \n",
       "3                          Schroder STEAL (2 STL)   \n",
       "4                                             NaN   \n",
       "\n",
       "                        away_description    score  player1_id  \\\n",
       "0                                    NaN  82 - 66           0   \n",
       "1  Baynes  Dunk (2 PTS) (Ilyasova 3 AST)  84 - 66      203382   \n",
       "2                                    NaN  84 - 68      203471   \n",
       "3      Blake Lost Ball Turnover (P3.T13)  84 - 68        2581   \n",
       "4      Ilyasova S.FOUL (P3.T1) (Z.Zarba)  84 - 68      101141   \n",
       "\n",
       "      player1_name player1_team  player2_id     player2_name player2_team  \\\n",
       "0              NaN          NaN           0              NaN          NaN   \n",
       "1      Aron Baynes          DET      101141   Ersan Ilyasova          DET   \n",
       "2  Dennis Schroder          ATL           0              NaN          NaN   \n",
       "3      Steve Blake          DET      203471  Dennis Schroder          ATL   \n",
       "4   Ersan Ilyasova          DET      203471  Dennis Schroder          ATL   \n",
       "\n",
       "   player3_id player3_name player3_team     event_type event_description  \\\n",
       "0           0          NaN          NaN  Start Period                NaN   \n",
       "1           0          NaN          NaN     Made Shot                NaN   \n",
       "2           0          NaN          NaN     Made Shot                NaN   \n",
       "3           0          NaN          NaN      Turnover          Lost Ball   \n",
       "4           0          NaN          NaN          Foul           Shooting   \n",
       "\n",
       "   remaining_time  score_difference  score_diff_percentile  \n",
       "0             720                16               0.108108  \n",
       "1             704                18               0.120000  \n",
       "2             689                16               0.105263  \n",
       "3             677                16               0.105263  \n",
       "4             674                16               0.105263  "
      ]
     },
     "execution_count": 4,
     "metadata": {},
     "output_type": "execute_result"
    }
   ],
   "source": [
    "# Remaining Time in seconds\n",
    "temp = data['play_clock'].str.extract(\"(\\d+):(\\d+)\")\n",
    "data_clean = data.copy()\n",
    "data_clean['remaining_time'] = temp[0].astype('int32')*60 + temp[1].astype('int32')\n",
    "\n",
    "# Score Difference between the teams\n",
    "before = ''\n",
    "score = data_clean['score']\n",
    "for i in range(len(score)):\n",
    "    if type(score[i]) is str:\n",
    "        before = score[i]\n",
    "    else:\n",
    "        score.set_value(i, before)\n",
    "        \n",
    "temp = data_clean['score'].str.extract(\"(\\d+) - (\\d+)\")\n",
    "data_clean['score_difference'] = temp[0].astype('int32') - temp[1].astype('int32')\n",
    "data_clean['score_diff_percentile'] = (temp[0].astype('float32') - temp[1].astype('int32'))/(temp[0].astype('int32') + temp[1].astype('int32'))\n",
    "data_clean.head()"
   ]
  },
  {
   "cell_type": "markdown",
   "metadata": {
    "collapsed": true
   },
   "source": [
    "For each game we find the `home` and `away` team from home and away description  \n",
    "and using the event type \"end game\" we set the `home_result` to 0 or 1.  \n",
    "These data is then propogated to all records of the particular game so that each point can act as  \n",
    "seperate data point for modelling."
   ]
  },
  {
   "cell_type": "code",
   "execution_count": null,
   "metadata": {
    "hideOutput": true
   },
   "outputs": [],
   "source": [
    "# Initializing fields\n",
    "data_clean['home_result'] = pd.Series(dtype='int32')\n",
    "data_clean['home'] = pd.Series(dtype='object')\n",
    "data_clean['away'] = pd.Series(dtype='object')\n",
    "\n",
    "# Calculating the home, away team and home team result\n",
    "game_set = dict()\n",
    "home, away = '', ''\n",
    "home_f, away_f = False, False\n",
    "for i in range(data_clean.shape[0]):\n",
    "    game_id = data_clean['game_id'][i]\n",
    "    if game_id not in game_set and game_id not in [21500586]:\n",
    "        name = data_clean['player1_name'][i]\n",
    "        if type(name) is str:\n",
    "            name = name.split(' ')\n",
    "            name = name[len(name) - 1]\n",
    "            if name in data_clean['home_description'] and name in data_clean['away_description']:\n",
    "                print(game_id)\n",
    "                game_set[game_id] = ('Locked')\n",
    "            elif not home_f and type(data_clean['home_description'][i]) is str:\n",
    "                if name in data_clean['home_description'][i]:\n",
    "                    home = data_clean['player1_team'][i]\n",
    "                    home_f = True                       \n",
    "            elif not away_f and type(data_clean['away_description'][i]) is str:\n",
    "                if name in data_clean['away_description'][i]:\n",
    "                    away = data_clean['player1_team'][i]\n",
    "                    away_f = True\n",
    "        if home_f and away_f and data_clean['remaining_time'][i] == 0 and away != home:\n",
    "            match = re.match(r'(\\d+) - (\\d+)',data_clean['score'][i])\n",
    "            away_score, home_score = int(match.group(1)), int(match.group(2))\n",
    "            home_result = 0 if away_score > home_score else 1\n",
    "            print(game_id, home, away, home_score, away_score, home_result)\n",
    "            home_f, away_f = False, False\n",
    "            game_set[game_id] = (home, away, home_score, away_score, home_result)"
   ]
  },
  {
   "cell_type": "code",
   "execution_count": 6,
   "metadata": {
    "collapsed": true
   },
   "outputs": [],
   "source": [
    "# A rare game where a player with a last name 'Johnson' appears in both away and home description \n",
    "# making it tough to find home and away team. Manually adding the record as a workaround\n",
    "game_set[21500586] = ('LAC', 'MIA', 104, 90, 1)"
   ]
  },
  {
   "cell_type": "code",
   "execution_count": 7,
   "metadata": {
    "collapsed": true
   },
   "outputs": [],
   "source": [
    "# Propogating the information to all the records\n",
    "for i in range((data_clean.shape[0])):\n",
    "    record = game_set[data_clean['game_id'][i]]\n",
    "    data_clean['home'].set_value(i, record[0])\n",
    "    data_clean['away'].set_value(i, record[1])\n",
    "    data_clean['home_result'].set_value(i, record[4])"
   ]
  },
  {
   "cell_type": "markdown",
   "metadata": {},
   "source": [
    "In game features are created by looking at the records that appeared before it in the same game.\n",
    "Features like `in_violations`, `in_rebound`, `in_turnover` are calculated as  \n",
    "\n",
    "    in_feature = home_feature - away_feature  \n",
    "    \n",
    "If the feature is violation then we subtract the home_violations so far minus away    violations so far. This is better than having a seperate feature for each team. It keeps the    data dense and reduces the dimensionality as well\n",
    "\n",
    "    `in_shot_accuracy` is calculated as follows,\n",
    "$$ in\\ shot\\ accuracy = \\frac{home\\ Made\\ Shot}{(home\\ Made\\ Shot)+(home\\ Missed\\ Shot} - \\frac{away\\ Made\\ Shot}{(away\\ Made\\ Shot)+(away\\ Missed\\ Shot)}$$"
   ]
  },
  {
   "cell_type": "code",
   "execution_count": 8,
   "metadata": {
    "collapsed": true
   },
   "outputs": [],
   "source": [
    "# Creating fields for In game features\n",
    "data_clean['in_violations'] = pd.Series(dtype='int32')\n",
    "data_clean['in_rebound'] = pd.Series(dtype='int32')\n",
    "data_clean['in_hfouls'] = pd.Series(dtype='int32')\n",
    "data_clean['in_hshoot_fouls'] = pd.Series(dtype='int32')\n",
    "data_clean['in_afouls'] = pd.Series(dtype='int32')\n",
    "data_clean['in_ashoot_fouls'] = pd.Series(dtype='int32')\n",
    "data_clean['in_turnover'] = pd.Series(dtype='int32')\n",
    "data_clean['in_shot_accuracy'] = pd.Series(dtype='int32')\n",
    "data_clean['in_ft_accuracy'] = pd.Series(dtype='int32')\n",
    "data_clean['in_momentum'] = pd.Series(dtype='int32')"
   ]
  },
  {
   "cell_type": "code",
   "execution_count": 9,
   "metadata": {},
   "outputs": [
    {
     "name": "stderr",
     "output_type": "stream",
     "text": [
      "C:\\Users\\Adiamaan Keerthi\\Anaconda3\\lib\\site-packages\\ipykernel\\__main__.py:78: RuntimeWarning: divide by zero encountered in int_scalars\n"
     ]
    }
   ],
   "source": [
    "data_clean['event_type'] = data_clean['event_type'].str.strip()\n",
    "game_after = 0\n",
    "for i in range(data_clean.shape[0]):\n",
    "    game_before = data_clean['game_id'][i]\n",
    "    if game_before != game_after:\n",
    "        in_violations, in_rebound, in_fouls, in_turnover, in_shoot_fouls, in_shot_accuracy, in_ft_accuracy = 0, 0, 0, 0, 0, 0, 0\n",
    "        made_home, missed_home, made_away, missed_away, home_viol, away_viol, home_rebound, away_rebound = 0, 0, 0, 0, 0, 0, 0, 0\n",
    "        home_sfoul, away_sfoul, home_foul, away_foul, home_ft_success, away_ft_success, home_ft_fail, away_ft_fail = 0, 0, 0, 0, 0, 0, 0, 0\n",
    "        home_to, away_to = 0, 0\n",
    "        start_diff = data_clean['game_id'][i]\n",
    "        game_after = game_before\n",
    "        momentum = deque([0]*5, maxlen=5)\n",
    "    else:\n",
    "        event = data_clean['event_type'][i]\n",
    "        event_desc = data_clean['event_description'][i]\n",
    "        home_desc = '' if type(data_clean['home_description'][i]) is float else data_clean['home_description'][i]\n",
    "        away_desc = '' if type(data_clean['away_description'][i]) is float else data_clean['away_description'][i]\n",
    "        momentum.append(data_clean['score_difference'][i])\n",
    "        \n",
    "        if event == 'Made Shot':\n",
    "            made_home = (made_home+1) if type(home_desc) is str else made_home\n",
    "            made_away = (made_away+1) if type(away_desc) is str else made_away\n",
    "        elif event == 'Missed Shot':\n",
    "            missed_home = (missed_home+1) if 'miss' in home_desc.lower() else missed_home\n",
    "            missed_away = (missed_away+1) if 'miss' in away_desc.lower() else missed_away\n",
    "        elif event == 'Violation':\n",
    "            home_viol = (home_viol+1) if 'Violation' in home_desc else home_viol\n",
    "            away_viol = (away_viol+1) if 'Violation' in away_desc else away_viol\n",
    "        elif event == 'Rebound':\n",
    "            home_rebound = (home_rebound+1) if 'rebound' in home_desc.lower() else home_rebound\n",
    "            away_rebound = (away_rebound+1) if 'rebound' in away_desc.lower() else away_rebound\n",
    "        elif event == 'Turnover':\n",
    "            home_to = (home_to+1) if 'turnover' in home_desc.lower() else home_to\n",
    "            away_to = (away_to+1) if 'turnover' in away_desc.lower() else away_to\n",
    "        elif event == 'Foul':\n",
    "            if 'shooting' in event_desc.lower():\n",
    "                home_sfoul = (home_sfoul+1) if 'foul' in home_desc.lower() else home_sfoul\n",
    "                away_sfoul = (away_sfoul+1) if 'foul' in away_desc.lower() else away_sfoul\n",
    "            else:\n",
    "                home_foul = (home_foul+1) if 'foul' in home_desc.lower() else home_foul\n",
    "                away_foul = (away_foul+1) if 'foul' in away_desc.lower() else away_foul\n",
    "        elif event == 'Free Throw':\n",
    "            if 'free throw' in home_desc.lower():\n",
    "                if 'miss' in home_desc.lower():\n",
    "                    home_ft_fail += 1\n",
    "                else:\n",
    "                    home_ft_success += 1\n",
    "            elif 'free throw' in away_desc.lower():\n",
    "                if 'miss' in away_desc.lower():\n",
    "                    away_ft_fail += 1\n",
    "                else:\n",
    "                    away_ft_success += 1\n",
    "\n",
    "        if (home_ft_fail == 0 and home_ft_success == 0):\n",
    "            a = 0\n",
    "        else:\n",
    "            a = (home_ft_success/(home_ft_fail+home_ft_success))\n",
    "        if (away_ft_fail == 0 and away_ft_success == 0):\n",
    "            b = 0\n",
    "        else:\n",
    "            b = (away_ft_success/(away_ft_fail+away_ft_success))\n",
    "        ft_accuracy =  a - b \n",
    "        data_clean['in_ft_accuracy'].set_value(i, ft_accuracy) \n",
    "        \n",
    "        if (made_home == 0 and missed_home == 0):\n",
    "            a = 0\n",
    "        else:\n",
    "            a = (made_home/(made_home+missed_home))\n",
    "        if (made_away == 0 and missed_away == 0):\n",
    "            b = 0\n",
    "        else:\n",
    "            b = (made_away/(missed_away+made_away))\n",
    "        \n",
    "        shot_accuracy =  a - b \n",
    "        data_clean['in_shot_accuracy'].set_value(i, shot_accuracy)\n",
    "        \n",
    "        if momentum[4] != 0 and momentum[0] != 0 and momentum[0] != momentum[4]:\n",
    "            data_clean['in_momentum'].set_value(i, (momentum[4] - momentum[0])/(momentum[4] + momentum[0]))\n",
    "        else:\n",
    "            data_clean['in_momentum'].set_value(i, 0)\n",
    "        data_clean['in_violations'].set_value(i, (home_viol - away_viol))\n",
    "        data_clean['in_rebound'].set_value(i, (home_rebound - away_rebound))\n",
    "        data_clean['in_turnover'].set_value(i, (home_to - away_to))\n",
    "        data_clean['in_ashoot_fouls'].set_value(i, away_sfoul)\n",
    "        data_clean['in_afouls'].set_value(i, away_foul)\n",
    "        data_clean['in_hshoot_fouls'].set_value(i, home_sfoul)\n",
    "        data_clean['in_hfouls'].set_value(i, home_foul)\n",
    "        game_after = game_before"
   ]
  },
  {
   "cell_type": "markdown",
   "metadata": {},
   "source": [
    "\n",
    "The data set has 1230 total games for 2016 season and 1150 total games for 2017 season\n",
    "\n",
    "$$ nth\\ game\\ in\\ season = \\frac{Nth\\ game\\ of\\ the\\ season}{Total\\ number\\ of\\ games\\ in\\ the\\ season}$$\n",
    "\n",
    "$$ Total\\ win\\ ratio = \\frac{No\\ of\\ games\\ won\\ so\\ far}{No\\ of\\ games\\ played\\ so\\ far}$$\n",
    "\n",
    "$$ Home\\ Away\\ win\\ ratio = \\frac{No\\ of\\ games\\ won\\ so\\ far\\ against\\ away\\ team}{No\\ of\\ games\\ played\\ so\\ far\\ against\\ away\\ team}$$"
   ]
  },
  {
   "cell_type": "code",
   "execution_count": 10,
   "metadata": {},
   "outputs": [
    {
     "data": {
      "text/html": [
       "<div>\n",
       "<table border=\"1\" class=\"dataframe\">\n",
       "  <thead>\n",
       "    <tr style=\"text-align: right;\">\n",
       "      <th></th>\n",
       "      <th>game_id</th>\n",
       "      <th>home</th>\n",
       "      <th>away</th>\n",
       "      <th>home_score</th>\n",
       "      <th>away_Score</th>\n",
       "      <th>home_result</th>\n",
       "      <th>total_win_ratio</th>\n",
       "      <th>home_away_win_ratio</th>\n",
       "      <th>nth_game_season</th>\n",
       "    </tr>\n",
       "  </thead>\n",
       "  <tbody>\n",
       "    <tr>\n",
       "      <th>0</th>\n",
       "      <td>21500001</td>\n",
       "      <td>ATL</td>\n",
       "      <td>DET</td>\n",
       "      <td>94</td>\n",
       "      <td>106</td>\n",
       "      <td>0</td>\n",
       "      <td>NaN</td>\n",
       "      <td>NaN</td>\n",
       "      <td>NaN</td>\n",
       "    </tr>\n",
       "    <tr>\n",
       "      <th>1</th>\n",
       "      <td>21500002</td>\n",
       "      <td>CHI</td>\n",
       "      <td>CLE</td>\n",
       "      <td>97</td>\n",
       "      <td>95</td>\n",
       "      <td>1</td>\n",
       "      <td>NaN</td>\n",
       "      <td>NaN</td>\n",
       "      <td>NaN</td>\n",
       "    </tr>\n",
       "    <tr>\n",
       "      <th>2</th>\n",
       "      <td>21500003</td>\n",
       "      <td>GSW</td>\n",
       "      <td>NOP</td>\n",
       "      <td>111</td>\n",
       "      <td>95</td>\n",
       "      <td>1</td>\n",
       "      <td>NaN</td>\n",
       "      <td>NaN</td>\n",
       "      <td>NaN</td>\n",
       "    </tr>\n",
       "    <tr>\n",
       "      <th>3</th>\n",
       "      <td>21500004</td>\n",
       "      <td>ORL</td>\n",
       "      <td>WAS</td>\n",
       "      <td>87</td>\n",
       "      <td>88</td>\n",
       "      <td>0</td>\n",
       "      <td>NaN</td>\n",
       "      <td>NaN</td>\n",
       "      <td>NaN</td>\n",
       "    </tr>\n",
       "    <tr>\n",
       "      <th>4</th>\n",
       "      <td>21500005</td>\n",
       "      <td>BOS</td>\n",
       "      <td>PHI</td>\n",
       "      <td>112</td>\n",
       "      <td>95</td>\n",
       "      <td>1</td>\n",
       "      <td>NaN</td>\n",
       "      <td>NaN</td>\n",
       "      <td>NaN</td>\n",
       "    </tr>\n",
       "  </tbody>\n",
       "</table>\n",
       "</div>"
      ],
      "text/plain": [
       "    game_id home away  home_score  away_Score  home_result  total_win_ratio  \\\n",
       "0  21500001  ATL  DET          94         106            0              NaN   \n",
       "1  21500002  CHI  CLE          97          95            1              NaN   \n",
       "2  21500003  GSW  NOP         111          95            1              NaN   \n",
       "3  21500004  ORL  WAS          87          88            0              NaN   \n",
       "4  21500005  BOS  PHI         112          95            1              NaN   \n",
       "\n",
       "   home_away_win_ratio  nth_game_season  \n",
       "0                  NaN              NaN  \n",
       "1                  NaN              NaN  \n",
       "2                  NaN              NaN  \n",
       "3                  NaN              NaN  \n",
       "4                  NaN              NaN  "
      ]
     },
     "execution_count": 10,
     "metadata": {},
     "output_type": "execute_result"
    }
   ],
   "source": [
    "# Creating fields to store in-season features\n",
    "data_clean['total_win_ratio'] = pd.Series(dtype='float32')\n",
    "data_clean['home_away_win_ratio'] = pd.Series(dtype='float32')\n",
    "data_clean['nth_game_season'] = pd.Series(dtype='float32')\n",
    "\n",
    "# Converting game_set into dataframe for easier data manipulation\n",
    "game_set = pd.DataFrame.from_dict(game_set, orient='index')\n",
    "game_set.reset_index(inplace=True)\n",
    "game_set.columns = ['game_id', 'home', 'away', 'home_score', 'away_Score', 'home_result']\n",
    "game_set['total_win_ratio'] = pd.Series(dtype='float32')\n",
    "game_set['home_away_win_ratio'] = pd.Series(dtype='float32')\n",
    "game_set['nth_game_season'] = pd.Series(dtype='float32')\n",
    "game_set.head()"
   ]
  },
  {
   "cell_type": "code",
   "execution_count": 12,
   "metadata": {
    "collapsed": true
   },
   "outputs": [],
   "source": [
    "# Setting in-season features total_win_ratio and home_away_win ratio\n",
    "year_before, year_after = 0, 2015\n",
    "teams_list = np.unique(game_set['home']).tolist()\n",
    "vs_stats = dict()\n",
    "overall_stats = dict()\n",
    "\n",
    "for i in range(game_set.shape[0]):\n",
    "    year_before = 2015 if (str(game_set['game_id'][i])).startswith('215') else 2016\n",
    "    if year_before != year_after:\n",
    "        vs_stats = dict()\n",
    "        overall_stats = dict()\n",
    "        year_after = year_before\n",
    "    game_id = game_set['game_id'][i]\n",
    "    home = game_set['home'][i]\n",
    "    away = game_set['away'][i]\n",
    "    result = game_set['home_result'][i]\n",
    "    m = re.match(r'\\d{4}(\\d{4})', str(game_id))\n",
    "    season_game = int(m.group(1))\n",
    "    team_list = [home, away]\n",
    "    team_list.sort()\n",
    "\n",
    "    if overall_stats.get(home) == None:\n",
    "        overall_stats[home] = (0, 0)\n",
    "    if overall_stats.get(away) == None:\n",
    "        overall_stats[away] = (0, 0)\n",
    "    hwin, htotal = overall_stats[home]\n",
    "    awin, atotal = overall_stats[away]\n",
    "    total_games = 1230\n",
    "    \n",
    "    game_set['nth_game_season'].set_value(i, (season_game/total_games))\n",
    "    if htotal == 0:\n",
    "        game_set['total_win_ratio'].set_value(i, 0)\n",
    "    else:\n",
    "        game_set['total_win_ratio'].set_value(i, (hwin / htotal))\n",
    "    htotal, atotal = htotal + 1, atotal + 1\n",
    "    if result == 1:\n",
    "        hwin += 1\n",
    "    else:\n",
    "        awin += 1\n",
    "\n",
    "    overall_stats[home] = (hwin, htotal)\n",
    "    overall_stats[away] = (awin, atotal)\n",
    "    key = team_list[0] + team_list[1]\n",
    "\n",
    "    if vs_stats.get(key) == None:\n",
    "        vs_stats[key] = (0, 0)\n",
    "    hvwin, hvtotal = vs_stats[key]\n",
    "    if hvtotal == 0:\n",
    "        game_set['home_away_win_ratio'].set_value(i, 0)\n",
    "    else:\n",
    "        game_set['home_away_win_ratio'].set_value(i, hvwin / hvtotal)\n",
    "\n",
    "    hvtotal += 1\n",
    "    hvwin = (hvwin + 1) if result == 1 else hvwin\n",
    "    vs_stats[key] = (hvwin, hvtotal)\n"
   ]
  },
  {
   "cell_type": "code",
   "execution_count": 13,
   "metadata": {
    "collapsed": true
   },
   "outputs": [],
   "source": [
    "# Copying game data from game_set to data_clean dataframe\n",
    "for i in range(game_set.shape[0]):\n",
    "    game_id = game_set['game_id'][i]\n",
    "    total_win_ratio = game_set['total_win_ratio'][i]\n",
    "    home_away_win_ratio = game_set['home_away_win_ratio'][i]\n",
    "    nth_game_season = game_set['nth_game_season'][i]\n",
    "    data_clean.ix[data_clean['game_id'] == game_id, 'total_win_ratio'] = total_win_ratio\n",
    "    data_clean.ix[data_clean['game_id'] == game_id, 'home_away_win_ratio'] = home_away_win_ratio\n",
    "    data_clean.ix[data_clean['game_id'] == game_id, 'nth_game_season'] = nth_game_season"
   ]
  },
  {
   "cell_type": "markdown",
   "metadata": {},
   "source": [
    "[Hollinger team stats](http://www.espn.com/nba/hollinger/teamstats) for the regular season is used as the external data.\n",
    "All the pre season features have a 'pre' prefix.  \n",
    "\n",
    "All the external features are calculated as follows,\n",
    "        \n",
    "        pre_PACE = PACE of home team - PACE of away team\n",
    "The same goes for all other features in this segment as well.\n",
    "\n",
    "External features and their description,\n",
    "\n",
    "        PACE = the number of possessions a team uses per game.\n",
    "        ORR = Offensive Rebound Rate\n",
    "        DRR = Defensive Rebound Rate\n",
    "        EFF FG% = Effective Field Goal Percentage\n",
    "        OFF EFF = Offensive Efficiency, Number of points a team scores per 100 possession\n",
    "        DEF EFF = Defensive Efficiency, Number of points a team allows per 100 possession\n",
    ".\n",
    "\n",
    "    Assist Ratio,\n",
    "$$AST = \\frac{(Assists * 100)}{[(FGA + (FTA * 0.44) + Assists + Turnovers)]}$$\n",
    "\n",
    "    Turnover Ratio,\n",
    "$$TO = \\frac{(Turnover * 100}{ [(FGA + (FTA x 0.44) + Assists + Turnovers]}$$\n",
    "\n",
    "    Rebound Rate,\n",
    "$$REBR = \\frac{Rebounds * Team Minutes}{Player Minutes *( Team Rebounds + Opponent Rebounds)}$$\n",
    "\n",
    "    True Shooting Percentage,\n",
    "$$TS = \\frac{Total Points * 50}{[(FGA + (FTA * 0.44)]}$$"
   ]
  },
  {
   "cell_type": "code",
   "execution_count": 14,
   "metadata": {
    "collapsed": true
   },
   "outputs": [],
   "source": [
    "# Read in the external features\n",
    "external = pd.read_csv('team_ratings.csv')\n",
    "\n",
    "def external_ratings(home, away, year):\n",
    "    return (external[((external['TEAM_ABBR'] == home) & (external['YEAR'] == year))].values[0][3:] - external[((external['TEAM_ABBR'] == away) & (external['YEAR'] == year))].values[0][3:])\n"
   ]
  },
  {
   "cell_type": "code",
   "execution_count": 15,
   "metadata": {
    "collapsed": true
   },
   "outputs": [],
   "source": [
    "# Creating columns for external features\n",
    "# pre means stats got before the game from last regular season\n",
    "\n",
    "data_clean['pre_PACE'] = pd.Series(dtype='int32')\n",
    "data_clean['pre_AST'] = pd.Series(dtype='int32')\n",
    "data_clean['pre_TO'] = pd.Series(dtype='int32')\n",
    "data_clean['pre_ORR'] = pd.Series(dtype='int32')\n",
    "data_clean['pre_DRR'] = pd.Series(dtype='int32')\n",
    "data_clean['pre_EFF_FG'] = pd.Series(dtype='int32')\n",
    "data_clean['pre_TS'] = pd.Series(dtype='int32')\n",
    "data_clean['pre_OFF_EFF'] = pd.Series(dtype='int32')\n",
    "data_clean['pre_DEF_EFF'] = pd.Series(dtype='int32')"
   ]
  },
  {
   "cell_type": "code",
   "execution_count": 16,
   "metadata": {
    "collapsed": true
   },
   "outputs": [],
   "source": [
    "game_before, game_after = 0, 0\n",
    "record = 0\n",
    "for i in range(data_clean.shape[0]):\n",
    "    game_before = data_clean['game_id'][i]\n",
    "    if game_before != game_after:\n",
    "        year = 2015 if (re.match(r'215\\d\\d\\d\\d\\d', str(game_before)) != None) else 2016\n",
    "        record = external_ratings(home=data_clean['home'][i], away=data_clean['away'][i], year=year)\n",
    "        game_after = game_before\n",
    "    data_clean['pre_PACE'].set_value(i, record[0])\n",
    "    data_clean['pre_AST'].set_value(i, record[1])\n",
    "    data_clean['pre_TO'].set_value(i, record[2])\n",
    "    data_clean['pre_ORR'].set_value(i, record[3])\n",
    "    data_clean['pre_DRR'].set_value(i, record[4])\n",
    "    data_clean['pre_EFF_FG'].set_value(i, record[5])\n",
    "    data_clean['pre_TS'].set_value(i, record[6])\n",
    "    data_clean['pre_OFF_EFF'].set_value(i, record[7])\n",
    "    data_clean['pre_DEF_EFF'].set_value(i, record[8])"
   ]
  },
  {
   "cell_type": "markdown",
   "metadata": {},
   "source": [
    "The three player information are taken across all record and a dictionary if unique players are formed.\n",
    "Two external data files are read into prating15 and prating16 to store in the player rating of season 2015 and 2016"
   ]
  },
  {
   "cell_type": "code",
   "execution_count": 17,
   "metadata": {
    "collapsed": true
   },
   "outputs": [],
   "source": [
    "# Grouping all player information\n",
    "player_details = pd.DataFrame(data_clean.groupby(['player1_id', 'player1_name','player1_team']).size())\n",
    "player_details = player_details.append(pd.DataFrame(data_clean.groupby(['player2_id', 'player2_name', 'player2_team']).size()))\n",
    "player_details = player_details.append(pd.DataFrame(data_clean.groupby(['player3_id', 'player3_name', 'player3_team']).size()))\n",
    "player_details.reset_index(inplace=True)\n",
    "player_details.drop_duplicates(subset=['player_id'], inplace=True)\n",
    "player_details.reset_index(drop=True, inplace=True)\n",
    "player_details.columns = ['ID', 'PLAYER', 'TEAM', 'APPEARED']\n",
    "player_details\n"
   ]
  },
  {
   "cell_type": "code",
   "execution_count": 19,
   "metadata": {
    "collapsed": true
   },
   "outputs": [],
   "source": [
    "#Reading external data files\n",
    "with codecs.open(\"player_ratings_2015.csv\", \"r\",encoding='utf-8', errors='ignore') as fdata:\n",
    "    prating15 = pd.read_csv(fdata)\n",
    "\n",
    "with codecs.open(\"player_ratings_2016.csv\", \"r\",encoding='utf-8', errors='ignore') as fdata:\n",
    "    prating16 = pd.read_csv(fdata)\n",
    "    \n",
    "merged15 = player_details.merge(prating14, on='PLAYER', how='outer')\n",
    "merged16 = player_details.merge(prating15, on='PLAYER', how='outer')"
   ]
  },
  {
   "cell_type": "code",
   "execution_count": 20,
   "metadata": {
    "collapsed": true
   },
   "outputs": [],
   "source": [
    "def get_rank(pname, year):\n",
    "    rank = 0\n",
    "    if year == 2015 and merged15.PLAYER.isin([pname]).any():\n",
    "        rank = merged14[merged15.PLAYER == pname].RK.values[0]\n",
    "    elif year == 2016 and merged16.PLAYER.isin([pname]).any():\n",
    "        rank = merged15[merged16.PLAYER == pname].RK.values[0]\n",
    "    return 0 if math.isnan(rank) else rank\n",
    "\n",
    "data_clean['home_rank'] = pd.Series(dtype='float32')\n",
    "data_clean['away_rank'] = pd.Series(dtype='float32')"
   ]
  },
  {
   "cell_type": "code",
   "execution_count": null,
   "metadata": {},
   "outputs": [],
   "source": [
    "game_before, game_after = 0, 0\n",
    "for i in range(data_clean.shape[0]):\n",
    "    game_before = data_clean['game_id'][i]\n",
    "    if game_before != game_after:\n",
    "        print(\"Games loaded...{}\".format(game_before), end='\\r')\n",
    "        home_rank, away_rank, home_cnt, away_cnt = 0, 0, 0, 0\n",
    "        home, away = data_clean.home[i], data_clean.away[i]\n",
    "        game_after = game_before\n",
    "        home_dict, away_dict = dict(), dict()\n",
    "    else:\n",
    "        year = 2015 if (re.match(r'215\\d\\d\\d\\d\\d', str(data_clean.game_id[i])) != None) else 2016\n",
    "        event = data_clean['event_type'][i]\n",
    "        if event == 'Substitution':\n",
    "            playing = data_clean['player2_name'][i]\n",
    "            bench = data_clean['player1_name'][i]\n",
    "            sub_team = data_clean['player1_team'][i]\n",
    "            playing_rank = get_rank(playing, year)\n",
    "            bench_rank = get_rank(bench, year)\n",
    "            dic = home_dict if sub_team == home else away_dict\n",
    "            if playing_rank != 0:\n",
    "                dic[playing] = playing_rank\n",
    "            if bench_rank != 0 and bench in dic:\n",
    "                del dic[bench]\n",
    "        else:\n",
    "            for k in range(1,4):\n",
    "                name = \"player\" + str(k) + \"_name\"\n",
    "                team = \"player\" + str(k) + \"_team\"\n",
    "                pname = data_clean[name][i]\n",
    "                pteam = data_clean[team][i]\n",
    "                dic = home_dict if pteam == home else away_dict\n",
    "                if pname not in dic:\n",
    "                    rank = get_rank(pname, year)\n",
    "                    if rank != 0:\n",
    "                        dic[pname] = rank\n",
    "        home_rank = sum([v for i,v in home_dict.items()])/max(len(home_dict), 1)\n",
    "        away_rank = sum([v for i,v in away_dict.items()])/max(len(away_dict), 1)\n",
    "        data_clean['home_rank'].set_value(i, home_rank)\n",
    "        data_clean['away_rank'].set_value(i, away_rank)"
   ]
  },
  {
   "cell_type": "code",
   "execution_count": null,
   "metadata": {
    "collapsed": true,
    "hideOutput": true
   },
   "outputs": [],
   "source": [
    "data_model = data_clean.drop(labels=['sequence_id', 'period', 'play_clock', 'home_description', 'away_description', 'score', 'player1_id', 'player1_name', 'player1_team', 'player2_id', 'player2_name', 'player2_team', 'player3_id', 'player3_name','player3_team', 'event_type', 'home', 'away', 'event_description'], axis=1)\n",
    "data_model.head()"
   ]
  },
  {
   "cell_type": "code",
   "execution_count": null,
   "metadata": {
    "collapsed": true
   },
   "outputs": [],
   "source": [
    "data_model.replace([np.inf, -np.inf], np.nan, inplace=True)\n",
    "data_model.fillna(value=0, inplace=True)\n",
    "data_clean.columns"
   ]
  },
  {
   "cell_type": "code",
   "execution_count": null,
   "metadata": {
    "collapsed": true
   },
   "outputs": [],
   "source": [
    "data_model.describe()"
   ]
  },
  {
   "cell_type": "code",
   "execution_count": 42,
   "metadata": {
    "collapsed": true
   },
   "outputs": [],
   "source": [
    "# Saving the file\n",
    "filename = \"data_clean.csv\"\n",
    "data_clean.to_csv(filename)\n",
    "# filename = \"data_model.csv\"\n",
    "# data_model.to_csv(filename)\n",
    "    "
   ]
  },
  {
   "cell_type": "code",
   "execution_count": null,
   "metadata": {
    "collapsed": true
   },
   "outputs": [],
   "source": []
  }
 ],
 "metadata": {
  "anaconda-cloud": {},
  "kernelspec": {
   "display_name": "Python [conda root]",
   "language": "python",
   "name": "conda-root-py"
  },
  "language_info": {
   "codemirror_mode": {
    "name": "ipython",
    "version": 3
   },
   "file_extension": ".py",
   "mimetype": "text/x-python",
   "name": "python",
   "nbconvert_exporter": "python",
   "pygments_lexer": "ipython3",
   "version": "3.5.3"
  }
 },
 "nbformat": 4,
 "nbformat_minor": 1
}
