{
 "cells": [
  {
   "cell_type": "markdown",
   "metadata": {
    "hideCode": false,
    "hidePrompt": false
   },
   "source": [
    "In game Win Probability Modelling:\n",
    "============================================\n",
    "Part 3 : Modelling and Hyper Parameter Tuning\n",
    "---------------------------------------------------"
   ]
  },
  {
   "cell_type": "code",
   "execution_count": 1,
   "metadata": {
    "hideCode": false,
    "hidePrompt": false
   },
   "outputs": [
    {
     "name": "stderr",
     "output_type": "stream",
     "text": [
      "C:\\Users\\Adiamaan Keerthi\\Anaconda3\\lib\\site-packages\\sklearn\\cross_validation.py:44: DeprecationWarning: This module was deprecated in version 0.18 in favor of the model_selection module into which all the refactored classes and functions are moved. Also note that the interface of the new CV iterators are different from that of this module. This module will be removed in 0.20.\n",
      "  \"This module will be removed in 0.20.\", DeprecationWarning)\n"
     ]
    }
   ],
   "source": [
    "import pandas as pd\n",
    "import numpy as np\n",
    "from sklearn.linear_model import LogisticRegressionCV, LogisticRegression\n",
    "from sklearn.model_selection import cross_val_score, StratifiedShuffleSplit\n",
    "from sklearn.metrics import make_scorer, mean_squared_error, log_loss, accuracy_score\n",
    "from sklearn import preprocessing\n",
    "from sklearn.ensemble import RandomForestClassifier\n",
    "from sklearn import svm\n",
    "from sklearn.model_selection import RandomizedSearchCV, GridSearchCV\n",
    "import matplotlib.pyplot as plt\n",
    "from itertools import chain\n",
    "import math\n",
    "from xgboost import XGBClassifier\n",
    "import xgboost as xgb # external package\n",
    "from sklearn import svm"
   ]
  },
  {
   "cell_type": "code",
   "execution_count": 2,
   "metadata": {
    "hideCode": false,
    "hidePrompt": false
   },
   "outputs": [
    {
     "data": {
      "text/html": [
       "<style>.container { width:80% !important; }</style>"
      ],
      "text/plain": [
       "<IPython.core.display.HTML object>"
      ]
     },
     "metadata": {},
     "output_type": "display_data"
    }
   ],
   "source": [
    "# Setting display priorities, might cause security issues because of the raw html injection !\n",
    "from IPython.core.display import display, HTML\n",
    "# from IPython.core.interactiveshell import InteractiveShell\n",
    "# InteractiveShell.ast_node_interactivity = \"all\"\n",
    "display(HTML(\"<style>.container { width:80% !important; }</style>\")) # uncomment for security issues\n",
    "np.set_printoptions(precision=4)\n",
    "pd.set_option('display.max_columns',50)"
   ]
  },
  {
   "cell_type": "markdown",
   "metadata": {
    "hideCode": false,
    "hidePrompt": false
   },
   "source": [
    "Cross validation\n",
    "---------------\n",
    "\n",
    "The data points of the same game are highly correlated and hence while evaluating the model we have to make sure that the test data set doesnt contain any data points from the games used in the train data set"
   ]
  },
  {
   "cell_type": "code",
   "execution_count": 3,
   "metadata": {
    "collapsed": true,
    "hideCode": false,
    "hidePrompt": false
   },
   "outputs": [],
   "source": [
    "# A custom cross validation generator that yields the game_if of train data set\n",
    "# k is number of folds and split is the train : test data split \n",
    "def crossval_generator(column, k=5, split=0.75, random = 305):\n",
    "    total_unique = np.unique(column).shape[0]\n",
    "    np.random.seed(random)\n",
    "    for i in range(k):\n",
    "        yield np.random.choice(np.unique(column), size = int(total_unique*split), replace=False)\n",
    "        "
   ]
  },
  {
   "cell_type": "code",
   "execution_count": 4,
   "metadata": {
    "collapsed": true,
    "hideCode": false,
    "hidePrompt": false
   },
   "outputs": [],
   "source": [
    "# Cross validation based on game id. The game's that are used in training are not used in testing\n",
    "#  a method for quick check of performance without hyper parameter tuning . Takes an estimator as model parameter\n",
    "def model_trainer(dataframe, model, k=5):\n",
    "    j = 0\n",
    "    mse, accuracy, logloss = np.empty([1,k]), np.empty([1,k]), np.empty([1,k])\n",
    "    for i in crossval_generator(dataframe['game_id'], k):\n",
    "        train_data = dataframe[dataframe['game_id'].isin(i)]\n",
    "        test_data = dataframe[~dataframe['game_id'].isin(i)]\n",
    "\n",
    "        train_data = train_data.drop(labels=['game_id'], axis=1)\n",
    "        test_data =test_data.drop(labels=['game_id'], axis=1)\n",
    "\n",
    "        train_X = train_data.loc[:,train_data.columns != 'home_result'].values\n",
    "        train_y = train_data['home_result'].values\n",
    "        test_X = test_data.loc[:,train_data.columns != 'home_result'].values\n",
    "        test_y = test_data['home_result'].values\n",
    "\n",
    "        print(\"Training the {} fold. Train data shape {}, Test data shape{}\".format(j+1,(train_X.shape, train_y.shape), (test_X.shape, test_y.shape)))\n",
    "\n",
    "        m = model()\n",
    "        m.fit(train_X.tolist(), train_y.tolist())\n",
    "\n",
    "        predicted = m.predict(test_X)\n",
    "        predicted_proba = m.predict_proba(test_X)\n",
    "\n",
    "        accuracy.itemset(j, accuracy_score(test_y.tolist(), predicted))\n",
    "        true = pd.get_dummies(test_y).values\n",
    "        mse.itemset(j, mean_squared_error(true, predicted_proba))\n",
    "        logloss.itemset(j, log_loss(test_y.tolist(), predicted_proba))\n",
    "        j += 1\n",
    "\n",
    "    print(\"Final Result:\")\n",
    "    print(\"MSE : {} +- {}\".format(mse.mean(), mse.std()))\n",
    "    print(\"Accuracy : {} +- {}\".format(accuracy.mean(), accuracy.std()))\n",
    "    print(\"Logloss : {} +- {}\".format(logloss.mean(), logloss.std()))\n",
    "    return m"
   ]
  },
  {
   "cell_type": "code",
   "execution_count": 245,
   "metadata": {},
   "outputs": [
    {
     "name": "stdout",
     "output_type": "stream",
     "text": [
      "Training the 1 fold. Train data shape ((220945, 27), (220945,)), Test data shape((73421, 27), (73421,))\n",
      "Training the 2 fold. Train data shape ((221313, 27), (221313,)), Test data shape((73053, 27), (73053,))\n",
      "Training the 3 fold. Train data shape ((220165, 27), (220165,)), Test data shape((74201, 27), (74201,))\n",
      "Training the 4 fold. Train data shape ((220984, 27), (220984,)), Test data shape((73382, 27), (73382,))\n",
      "Training the 5 fold. Train data shape ((221868, 27), (221868,)), Test data shape((72498, 27), (72498,))\n",
      "Final Result:\n",
      "MSE : 0.08860649648486932 +- 0.0019859104690839436\n",
      "Accuracy : 0.8745861202609868 +- 0.003319067378619056\n",
      "Logloss : 0.28107143118251376 +- 0.007380520381957095\n"
     ]
    },
    {
     "data": {
      "text/plain": [
       "LogisticRegression(C=1.0, class_weight=None, dual=False, fit_intercept=True,\n",
       "          intercept_scaling=1, max_iter=100, multi_class='ovr', n_jobs=1,\n",
       "          penalty='l2', random_state=None, solver='liblinear', tol=0.0001,\n",
       "          verbose=0, warm_start=False)"
      ]
     },
     "execution_count": 245,
     "metadata": {},
     "output_type": "execute_result"
    }
   ],
   "source": [
    "model_trainer(data_model, LogisticRegression)"
   ]
  },
  {
   "cell_type": "code",
   "execution_count": 5,
   "metadata": {
    "collapsed": true,
    "hideCode": false,
    "hidePrompt": false
   },
   "outputs": [],
   "source": [
    "data_clean = pd.read_csv(\"data_clean.csv\", index_col = None)\n",
    "data_clean.drop(labels=['Unnamed: 0', 'sequence_id'], axis=1, inplace=True)\n",
    "data_clean.replace([np.inf, -np.inf], np.nan, inplace=True)\n",
    "data_clean.fillna(value=0, inplace=True)\n",
    "\n",
    "data_model = data_model = data_clean.drop(labels=['period', 'play_clock', 'home_description', 'away_description', 'score', 'player1_id', 'player1_name', 'player1_team', 'player2_id', 'player2_name', 'player2_team', 'player3_id', 'player3_name','player3_team', 'event_type', 'home', 'away', 'event_description'], axis=1)"
   ]
  },
  {
   "cell_type": "code",
   "execution_count": 6,
   "metadata": {},
   "outputs": [
    {
     "data": {
      "text/plain": [
       "Index(['game_id', 'remaining_time', 'score_difference',\n",
       "       'score_diff_percentile', 'home_result', 'in_violations', 'in_rebound',\n",
       "       'in_hfouls', 'in_hshoot_fouls', 'in_afouls', 'in_ashoot_fouls',\n",
       "       'in_turnover', 'in_shot_accuracy', 'in_ft_accuracy', 'in_momentum',\n",
       "       'total_win_ratio', 'home_away_win_ratio', 'nth_game_season', 'pre_PACE',\n",
       "       'pre_AST', 'pre_TO', 'pre_ORR', 'pre_DRR', 'pre_EFF_FG', 'pre_TS',\n",
       "       'pre_OFF_EFF', 'pre_DEF_EFF', 'home_rank', 'away_rank'],\n",
       "      dtype='object')"
      ]
     },
     "execution_count": 6,
     "metadata": {},
     "output_type": "execute_result"
    }
   ],
   "source": [
    "data_model.columns"
   ]
  },
  {
   "cell_type": "markdown",
   "metadata": {},
   "source": [
    "We will be using Logistic regression, RandomForest, SVM and XGB Classifier for our in game win predictability. LogisticRegression has good interpretability  \n",
    "and low efficiency whereas XGB falls on the other end of the spectrum. These four models should give a good sense of the data.  \n",
    "\n",
    "All fields except game_id and home_result are normalized.\n",
    "Hyper parameter tuning is done using Randomized Search CV that draws combinations of parameters in a uniformly distributed way and hence limits the number of possible combinations making it suitable for running in a personal laptop.\n",
    "\n",
    "The data points from a single game is highly correlated. Each event doesnt drastically change a data point's signature.\n",
    "Hence I split the data points into buckets of 24 seconds from 12th minute to the 2nd minute and for the last two minutes grouping them in 12 seconds buckets.\n",
    "All games had more data points in the last few minutes and hence this variable bucket size is used to keep the data stratified.\n",
    "\n",
    "Randomly out of this buckets, only one data point is chosen and hence each game will have one data point in each bucket (~36 data pts per game). This reduces correlation \n",
    "as well as overfitting in the modelling and speeds up hyper parameter tuning without any loss in efficiency. As mentioned before games used in training set are not used in the test set."
   ]
  },
  {
   "cell_type": "code",
   "execution_count": 7,
   "metadata": {
    "hideCode": false,
    "hidePrompt": false
   },
   "outputs": [
    {
     "name": "stdout",
     "output_type": "stream",
     "text": [
      "Train data size (78661, 29)\n"
     ]
    }
   ],
   "source": [
    "bins = list(range(0, 120, 12)) + list(range(120, 721, 24))\n",
    "binned_df = pd.DataFrame(pd.cut(data_model['remaining_time'], bins, include_lowest=True))\n",
    "binned_df.reset_index(inplace=True)\n",
    "\n",
    "data_model['time_bracket'] = pd.Series(dtype='object')\n",
    "data_model.time_bracket = binned_df.remaining_time\n",
    "\n",
    "strat_sample = data_model.groupby(['game_id', 'time_bracket']).apply(lambda x: x.sample(min(len(x), 1)))\n",
    "strat_sample.reset_index(drop=True, inplace=True)\n",
    "\n",
    "strat_sample.drop(labels=['time_bracket'], axis=1, inplace=True)\n",
    "data_model.drop(labels=['time_bracket'], axis=1, inplace=True)\n",
    "strat_sample = strat_sample.sample(n=strat_sample.shape[0])\n",
    "bkp_strat = strat_sample.copy()\n",
    "\n",
    "print(\"Train data size {}\".format(strat_sample.shape))"
   ]
  },
  {
   "cell_type": "code",
   "execution_count": null,
   "metadata": {
    "hideCode": false,
    "hideOutput": true,
    "hidePrompt": false
   },
   "outputs": [],
   "source": [
    "rf_logloss, xgb_logloss, lr_logloss = np.empty([1,5]), np.empty([1,5]), np.empty([1,5])\n",
    "j = 0\n",
    "\n",
    "for i in crossval_generator(strat_sample['game_id'], k=5):\n",
    "    train_index = i\n",
    "    train_data = strat_sample[strat_sample['game_id'].isin(train_index)]\n",
    "    test_data = strat_sample[~strat_sample['game_id'].isin(train_index)]\n",
    "\n",
    "    train_labels = train_data['home_result']\n",
    "    test_labels = test_data['home_result']\n",
    "    train_data.drop(labels=['home_result','game_id'], axis=1, inplace=True)\n",
    "    test_data.drop(labels=['home_result','game_id'], axis=1, inplace=True)\n",
    "    \n",
    "    print(\"Train data shape{}\".format(train_data.shape))\n",
    "    print(\"Test data shape{}\".format(test_data.shape))\n",
    "    \n",
    "    rf = RandomForestClassifier(bootstrap=True, class_weight=None, criterion='gini',\n",
    "            max_depth=4, max_features='auto', max_leaf_nodes=None,\n",
    "            min_impurity_split=1e-07, min_samples_leaf=1,\n",
    "            min_samples_split=2, min_weight_fraction_leaf=0.0,\n",
    "            n_estimators=100, n_jobs=3, oob_score=False, random_state=1234,\n",
    "            verbose=0, warm_start=False)\n",
    "    rf.fit(train_data.values.tolist(), train_labels.values)\n",
    "    \n",
    "    rf_logloss.itemset(j, log_loss(test_labels.values, rf.predict_proba(test_data.values.tolist())))\n",
    "    \n",
    "    lr = LogisticRegression(C=1, class_weight=None, dual=False, fit_intercept=True,\n",
    "          intercept_scaling=1, max_iter=100, multi_class='ovr', n_jobs=3,\n",
    "          penalty='l2', random_state=1234, solver='liblinear', tol=0.0001,\n",
    "          verbose=0, warm_start=False)\n",
    "    lr.fit(train_data.values.tolist(), train_labels.values)\n",
    "    \n",
    "    lr_logloss.itemset(j, log_loss(test_labels.values, lr.predict_proba(test_data.values.tolist())))\n",
    "    \n",
    "    dtrain = xgb.DMatrix(train_data.values.tolist(), label=train_labels.values, feature_names=train_data.columns)\n",
    "    dtest = xgb.DMatrix(test_data.values.tolist(), label=test_labels.values, feature_names=test_data.columns)\n",
    "    evallist = [(dtest,'eval'),(dtrain,'train')]\n",
    "\n",
    "    xgbmodel = xgb.train(param, dtrain, 70, evallist, early_stopping_rounds=5)\n",
    "    \n",
    "    xgb_logloss.itemset(j, log_loss(test_labels, xgbmodel.predict(dtest)))\n",
    "    \n",
    "    j += 1\n"
   ]
  },
  {
   "cell_type": "code",
   "execution_count": 16,
   "metadata": {},
   "outputs": [
    {
     "name": "stdout",
     "output_type": "stream",
     "text": [
      "Logloss RF: 0.3270193218207386 +- 0.00622468304235517\n",
      "Logloss LR: 0.2712209787379241 +- 0.009572511361042252\n",
      "Logloss XGB: 0.2702710812283954 +- 0.008379325202836362\n"
     ]
    }
   ],
   "source": [
    "print(\"Logloss RF: {} +- {}\".format(rf_logloss.mean(), rf_logloss.std()))\n",
    "print(\"Logloss LR: {} +- {}\".format(lr_logloss.mean(), lr_logloss.std()))\n",
    "print(\"Logloss XGB: {} +- {}\".format(xgb_logloss.mean(), xgb_logloss.std()))"
   ]
  },
  {
   "cell_type": "markdown",
   "metadata": {},
   "source": [
    "| Model | Logloss for 5 fold cv  |\n",
    "|------|------|\n",
    "|   Random Forest  | 0.3270 +- 0.0062 |\n",
    "|   Logistic Regression | 0.2712 +- 0.009 |\n",
    "|   Extreme Gradient Boosting | 0.2702 +- 0.008 |"
   ]
  },
  {
   "cell_type": "code",
   "execution_count": 48,
   "metadata": {
    "hideCode": false,
    "hidePrompt": false
   },
   "outputs": [
    {
     "name": "stdout",
     "output_type": "stream",
     "text": [
      "Accuracy 0.8804430669173314\n",
      "Logloss 0.2831144101387641\n"
     ]
    }
   ],
   "source": [
    "# best estimator after hyper parameter tuning\n",
    "rf = RandomForestClassifier(bootstrap=True, class_weight=None, criterion='gini',\n",
    "            max_depth=10, max_features='auto', max_leaf_nodes=None,\n",
    "            min_impurity_split=1e-07, min_samples_leaf=1,\n",
    "            min_samples_split=2, min_weight_fraction_leaf=0.0,\n",
    "            n_estimators=500, n_jobs=3, oob_score=False, random_state=1234,\n",
    "            verbose=0, warm_start=False)\n",
    "\n",
    "rf.fit(train_data.values.tolist(), train_labels.values)\n",
    "print(\"Accuracy {}\".format(accuracy_score(rf.predict(test_data.values.tolist()), test_labels.values)))\n",
    "print(\"Logloss {}\".format(log_loss(test_labels.values, rf.predict_proba(test_data))))"
   ]
  },
  {
   "cell_type": "code",
   "execution_count": 274,
   "metadata": {},
   "outputs": [
    {
     "data": {
      "text/plain": [
       "array([ 0.00721208,  0.34600413,  0.38741034,  0.00177342,  0.00433529,\n",
       "        0.0017697 ,  0.00209445,  0.00250986,  0.00259296,  0.00261871,\n",
       "        0.00767018,  0.00303043,  0.00338006,  0.02109343,  0.00283098,\n",
       "        0.01449388,  0.01300656,  0.02161415,  0.01468987,  0.0155721 ,\n",
       "        0.01471476,  0.01447272,  0.02271873,  0.0275406 ,  0.03417058,\n",
       "        0.00549354,  0.00518648])"
      ]
     },
     "execution_count": 274,
     "metadata": {},
     "output_type": "execute_result"
    }
   ],
   "source": [
    "rf.feature_importances_"
   ]
  },
  {
   "cell_type": "code",
   "execution_count": 47,
   "metadata": {},
   "outputs": [
    {
     "name": "stdout",
     "output_type": "stream",
     "text": [
      "Accuracy 0.8850160052842844\n",
      "Logloss 0.26068563252171356\n"
     ]
    }
   ],
   "source": [
    "# best estimator after hyper parameter tuning\n",
    "lr = LogisticRegression(C=1, class_weight=None, dual=False, fit_intercept=True,\n",
    "          intercept_scaling=1, max_iter=1000, multi_class='ovr', n_jobs=1,\n",
    "          penalty='l2', random_state=1234, solver='liblinear', tol=0.0001,\n",
    "          verbose=0, warm_start=False)\n",
    "\n",
    "lr.fit(train_data.values.tolist(), train_labels.values)\n",
    "print(\"Accuracy {}\".format(accuracy_score(lr.predict(test_data.values.tolist()), test_labels.values)))\n",
    "print(\"Logloss {}\".format(log_loss(test_labels.values, lr.predict_proba(test_data))))\n"
   ]
  },
  {
   "cell_type": "markdown",
   "metadata": {},
   "source": [
    "SVM Hyper parameter tuning:"
   ]
  },
  {
   "cell_type": "code",
   "execution_count": 276,
   "metadata": {
    "hideOutput": true
   },
   "outputs": [
    {
     "name": "stderr",
     "output_type": "stream",
     "text": [
      "C:\\Users\\Adiamaan Keerthi\\Anaconda3\\lib\\site-packages\\sklearn\\svm\\base.py:220: ConvergenceWarning: Solver terminated early (max_iter=10).  Consider pre-processing your data with StandardScaler or MinMaxScaler.\n",
      "  % self.max_iter, ConvergenceWarning)\n"
     ]
    },
    {
     "data": {
      "text/plain": [
       "RandomizedSearchCV(cv=10, error_score='raise',\n",
       "          estimator=SVC(C=1, cache_size=200, class_weight=None, coef0=0.0,\n",
       "  decision_function_shape=None, degree=3, gamma='auto', kernel='rbf',\n",
       "  max_iter=-1, probability=True, random_state=None, shrinking=True,\n",
       "  tol=0.001, verbose=False),\n",
       "          fit_params={}, iid=True, n_iter=20, n_jobs=3,\n",
       "          param_distributions={'kernel': ['sigmoid'], 'max_iter': [10, 50, 100], 'C': [0.1, 0.001, 0.01], 'gamma': [0.1, 0.001, 0.01, 0.0001]},\n",
       "          pre_dispatch='2*n_jobs', random_state=None, refit=True,\n",
       "          return_train_score=True, scoring='neg_log_loss', verbose=0)"
      ]
     },
     "execution_count": 276,
     "metadata": {},
     "output_type": "execute_result"
    }
   ],
   "source": [
    "svm_model = svm.SVC(C=1, probability=True)\n",
    "param_list = {'kernel':[ 'sigmoid'],'gamma':[0.1, 0.001, 0.01, 0.0001], 'C':[0.1,0.001, 0.01], 'max_iter':[10, 50, 100]}\n",
    "svm_grid = RandomizedSearchCV(svm_model, param_list, scoring='neg_log_loss',cv=10, n_jobs=3, n_iter=20)\n",
    "svm_grid.fit(train_data, train_labels)"
   ]
  },
  {
   "cell_type": "code",
   "execution_count": 124,
   "metadata": {},
   "outputs": [
    {
     "data": {
      "text/plain": [
       "(-0.45892223656621794, SVC(C=0.1, cache_size=200, class_weight=None, coef0=0.0,\n",
       "   decision_function_shape=None, degree=3, gamma=0.001, kernel='sigmoid',\n",
       "   max_iter=100, probability=True, random_state=None, shrinking=True,\n",
       "   tol=0.001, verbose=False))"
      ]
     },
     "execution_count": 124,
     "metadata": {},
     "output_type": "execute_result"
    }
   ],
   "source": [
    "# best negative log loss and estimator\n",
    "svm_grid.best_score_, svm_grid.best_estimator_"
   ]
  },
  {
   "cell_type": "code",
   "execution_count": 46,
   "metadata": {},
   "outputs": [
    {
     "name": "stderr",
     "output_type": "stream",
     "text": [
      "C:\\Users\\Adiamaan Keerthi\\Anaconda3\\lib\\site-packages\\sklearn\\svm\\base.py:220: ConvergenceWarning: Solver terminated early (max_iter=50).  Consider pre-processing your data with StandardScaler or MinMaxScaler.\n",
      "  % self.max_iter, ConvergenceWarning)\n"
     ]
    },
    {
     "name": "stdout",
     "output_type": "stream",
     "text": [
      "Accuracy 0.6207509781007062\n",
      "Logloss 0.6589971656276973\n"
     ]
    }
   ],
   "source": [
    "# Training on the best estimator\n",
    "svm_model = svm.SVC(C=0.1, cache_size=200, class_weight=None, coef0=0.0,\n",
    "   decision_function_shape=None, degree=3, gamma=0.001, kernel='sigmoid',\n",
    "   max_iter=50, probability=True, random_state=None, shrinking=True,\n",
    "   tol=0.001, verbose=False)\n",
    "\n",
    "svm_model.fit(train_data, train_labels)\n",
    "print(\"Accuracy {}\".format(accuracy_score(svm_model.predict(test_data.values.tolist()), test_labels.values)))\n",
    "print(\"Logloss {}\".format(log_loss(test_labels.values, svm_model.predict_proba(test_data))))"
   ]
  },
  {
   "cell_type": "code",
   "execution_count": null,
   "metadata": {
    "hideOutput": true
   },
   "outputs": [],
   "source": [
    "# XGB estimator after hyper parameter tuning\n",
    "dtrain = xgb.DMatrix(train_data.values.tolist(), label=train_labels.values, feature_names=train_data.columns)\n",
    "dtest = xgb.DMatrix(test_data.values.tolist(), label=test_labels.values, feature_names=test_data.columns)\n",
    "evallist = [(dtest,'eval'),(dtrain,'train')]\n",
    "\n",
    "param = {'max_depth':8, 'eta':0.1,'silent':1,'objective':'binary:logistic','nthread':4,'eval_metric':['logloss'],'gamma':100,'min_child_weight':100,'subsample':0.5,'colsample_bytree':0.7}\n",
    "xgbmodel = xgb.train(param, dtrain, 100, evallist, early_stopping_rounds=5)\n",
    "xgb_predict = xgbmodel.predict(dtest)"
   ]
  },
  {
   "cell_type": "code",
   "execution_count": 44,
   "metadata": {},
   "outputs": [
    {
     "name": "stdout",
     "output_type": "stream",
     "text": [
      "XGB log loss = 0.2603747006067536\n"
     ]
    }
   ],
   "source": [
    "print(\"XGB log loss = {}\".format(log_loss(test_labels, xgb_predict)))"
   ]
  },
  {
   "cell_type": "code",
   "execution_count": 49,
   "metadata": {},
   "outputs": [],
   "source": [
    "time = bkp_strat[~bkp_strat['game_id'].isin(train_index)].remaining_time\n",
    "result = pd.concat([pd.Series(time.values),pd.Series(test_labels.values), pd.Series(xgbmodel.predict(dtest)), pd.Series(lr.predict_proba(test_data)[:,1]), pd.Series(rf.predict_proba(test_data)[:,1]), pd.Series(svm_model.predict_proba(test_data)[:,1])], axis=1)\n",
    "result.reset_index(drop=True, inplace=True)\n",
    "result.columns = ['remaining_time', 'result', 'xgb', 'lr','rf','svm']"
   ]
  },
  {
   "cell_type": "code",
   "execution_count": 50,
   "metadata": {
    "hideOutput": true
   },
   "outputs": [
    {
     "data": {
      "text/plain": [
       "time_bracket\n",
       "(-0.001, 12.0]    595\n",
       "(12.0, 24.0]      463\n",
       "(24.0, 36.0]      496\n",
       "(36.0, 48.0]      494\n",
       "(48.0, 60.0]      464\n",
       "(60.0, 72.0]      468\n",
       "(72.0, 84.0]      473\n",
       "(84.0, 96.0]      489\n",
       "(96.0, 108.0]     485\n",
       "(108.0, 120.0]    463\n",
       "(120.0, 144.0]    589\n",
       "(144.0, 168.0]    588\n",
       "(168.0, 192.0]    590\n",
       "(192.0, 216.0]    593\n",
       "(216.0, 240.0]    592\n",
       "(240.0, 264.0]    588\n",
       "(264.0, 288.0]    591\n",
       "(288.0, 312.0]    588\n",
       "(312.0, 336.0]    589\n",
       "(336.0, 360.0]    591\n",
       "(360.0, 384.0]    589\n",
       "(384.0, 408.0]    591\n",
       "(408.0, 432.0]    593\n",
       "(432.0, 456.0]    591\n",
       "(456.0, 480.0]    594\n",
       "(480.0, 504.0]    590\n",
       "(504.0, 528.0]    595\n",
       "(528.0, 552.0]    594\n",
       "(552.0, 576.0]    594\n",
       "(576.0, 600.0]    595\n",
       "(600.0, 624.0]    591\n",
       "(624.0, 648.0]    593\n",
       "(648.0, 672.0]    593\n",
       "(672.0, 696.0]    594\n",
       "(696.0, 720.0]    595\n",
       "dtype: int64"
      ]
     },
     "execution_count": 50,
     "metadata": {},
     "output_type": "execute_result"
    }
   ],
   "source": [
    "bins = list(range(0, 120, 12)) + list(range(120, 721, 24))\n",
    "result['time_bracket'] = pd.Series(dtype='object')\n",
    "result['time_bracket'] = pd.cut(result['remaining_time'], bins, include_lowest=True)\n",
    "result.groupby('time_bracket').size()"
   ]
  },
  {
   "cell_type": "code",
   "execution_count": 51,
   "metadata": {
    "collapsed": true
   },
   "outputs": [],
   "source": [
    "def logloss(true_label, predicted, eps=1e-15):\n",
    "  p = np.clip(predicted, eps, 1 - eps)\n",
    "  if true_label == 1:\n",
    "    return -math.log(p)\n",
    "  else:\n",
    "    return -math.log(1 - p)\n",
    "\n",
    "result['xgb_logloss'] = pd.Series(dtype='float32')\n",
    "result['lr_logloss'] = pd.Series(dtype='float32')\n",
    "result['rf_logloss'] = pd.Series(dtype='float32')\n",
    "#result['svm_logloss'] = pd.Series(dtype='float32')"
   ]
  },
  {
   "cell_type": "code",
   "execution_count": 52,
   "metadata": {
    "collapsed": true
   },
   "outputs": [],
   "source": [
    "for i in range(result.shape[0]):\n",
    "    result.xgb_logloss.set_value(i, logloss(result['result'][i], result['xgb'][i]))\n",
    "    result.lr_logloss.set_value(i, logloss(result['result'][i], result['lr'][i]))\n",
    "    result.rf_logloss.set_value(i, logloss(result['result'][i], result['rf'][i]))\n",
    "    #result.svm_logloss.set_value(i, logloss(result['result'][i], result['svm'][i]))"
   ]
  },
  {
   "cell_type": "code",
   "execution_count": 53,
   "metadata": {},
   "outputs": [],
   "source": [
    "visual = result.groupby('time_bracket')['xgb_logloss','lr_logloss','rf_logloss'].mean()"
   ]
  },
  {
   "cell_type": "markdown",
   "metadata": {},
   "source": [
    "SVM has a very poor performance. The real competition is between RF and XGB.\n",
    "XGB has a better over all performance as well as better performance near the end of the game which is what we need"
   ]
  },
  {
   "cell_type": "code",
   "execution_count": 205,
   "metadata": {},
   "outputs": [
    {
     "data": {
      "text/plain": [
       "36"
      ]
     },
     "execution_count": 205,
     "metadata": {},
     "output_type": "execute_result"
    }
   ],
   "source": [
    "len(list(range(0, 120, 12)) + list(range(120, 721, 24)))"
   ]
  },
  {
   "cell_type": "code",
   "execution_count": 56,
   "metadata": {},
   "outputs": [
    {
     "data": {
      "image/png": "[encoded data removed]",
      "text/plain": [
       "<matplotlib.figure.Figure at 0x1e79c3719b0>"
      ]
     },
     "metadata": {},
     "output_type": "display_data"
    }
   ],
   "source": [
    "fig = plt.figure(figsize=(16,10))\n",
    "ax = fig.gca()\n",
    "visual.plot(ax=ax,title=\"XGB, RF, LR logloss across remaining time bins\", fontsize=16)\n",
    "plt.ylabel('log loss', fontsize=16)\n",
    "plt.ylim(0, 0.60)\n",
    "plt.yticks(fontsize=12)\n",
    "plt.xlabel('Time remaining in seconds', fontsize=15)\n",
    "plt.xticks(range(36), list(range(0, 120, 12)) + list(range(120, 721, 24)), rotation=90, fontsize=10)\n",
    "plt.show()\n",
    "ax.set_facecolor('red')\n",
    "ax.set_facecolor((1, 0, 0))"
   ]
  },
  {
   "cell_type": "markdown",
   "metadata": {
    "collapsed": true
   },
   "source": [
    "XGB seems to be the best model. We will use it to train the entire data set and dump the model to the disk to use it in the file "
   ]
  },
  {
   "cell_type": "code",
   "execution_count": 12,
   "metadata": {},
   "outputs": [],
   "source": [
    "entire_data  = strat_sample.drop(labels=['game_id', 'home_result'], axis=1)"
   ]
  },
  {
   "cell_type": "code",
   "execution_count": 17,
   "metadata": {},
   "outputs": [],
   "source": [
    "param = {'max_depth':8, 'eta':0.1,'silent':1,'objective':'binary:logistic','nthread':4,'eval_metric':['logloss'],'gamma':100,'min_child_weight':100,'subsample':0.5,'colsample_bytree':0.7}\n",
    "dtrain = xgb.DMatrix(entire_data.values.tolist(), label=strat_sample['home_result'].values, feature_names=entire_data.columns)\n",
    "xgbmodel = xgb.train(param, dtrain, 60)"
   ]
  },
  {
   "cell_type": "code",
   "execution_count": 38,
   "metadata": {},
   "outputs": [
    {
     "data": {
      "text/html": [
       "<div>\n",
       "<style>\n",
       "    .dataframe thead tr:only-child th {\n",
       "        text-align: right;\n",
       "    }\n",
       "\n",
       "    .dataframe thead th {\n",
       "        text-align: left;\n",
       "    }\n",
       "\n",
       "    .dataframe tbody tr th {\n",
       "        vertical-align: top;\n",
       "    }\n",
       "</style>\n",
       "<table border=\"1\" class=\"dataframe\">\n",
       "  <thead>\n",
       "    <tr style=\"text-align: right;\">\n",
       "      <th></th>\n",
       "      <th>remaining_time</th>\n",
       "      <th>score_difference</th>\n",
       "      <th>score_diff_percentile</th>\n",
       "      <th>in_violations</th>\n",
       "      <th>in_rebound</th>\n",
       "      <th>in_hfouls</th>\n",
       "      <th>in_hshoot_fouls</th>\n",
       "      <th>in_afouls</th>\n",
       "      <th>in_ashoot_fouls</th>\n",
       "      <th>in_turnover</th>\n",
       "      <th>in_shot_accuracy</th>\n",
       "      <th>in_ft_accuracy</th>\n",
       "      <th>in_momentum</th>\n",
       "      <th>total_win_ratio</th>\n",
       "      <th>home_away_win_ratio</th>\n",
       "      <th>nth_game_season</th>\n",
       "      <th>pre_PACE</th>\n",
       "      <th>pre_AST</th>\n",
       "      <th>pre_TO</th>\n",
       "      <th>pre_ORR</th>\n",
       "      <th>pre_DRR</th>\n",
       "      <th>pre_EFF_FG</th>\n",
       "      <th>pre_TS</th>\n",
       "      <th>pre_OFF_EFF</th>\n",
       "      <th>pre_DEF_EFF</th>\n",
       "      <th>home_rank</th>\n",
       "      <th>away_rank</th>\n",
       "    </tr>\n",
       "  </thead>\n",
       "  <tbody>\n",
       "    <tr>\n",
       "      <th>35500</th>\n",
       "      <td>422</td>\n",
       "      <td>-6</td>\n",
       "      <td>-0.031250</td>\n",
       "      <td>0.0</td>\n",
       "      <td>1.0</td>\n",
       "      <td>2.0</td>\n",
       "      <td>1.0</td>\n",
       "      <td>0.0</td>\n",
       "      <td>1.0</td>\n",
       "      <td>1.0</td>\n",
       "      <td>0.238636</td>\n",
       "      <td>0.00</td>\n",
       "      <td>-0.142857</td>\n",
       "      <td>0.492958</td>\n",
       "      <td>0.0</td>\n",
       "      <td>0.872358</td>\n",
       "      <td>-1.0</td>\n",
       "      <td>1.8</td>\n",
       "      <td>0.3</td>\n",
       "      <td>-1.7</td>\n",
       "      <td>5.7</td>\n",
       "      <td>3.3</td>\n",
       "      <td>3.1</td>\n",
       "      <td>1.7</td>\n",
       "      <td>2.0</td>\n",
       "      <td>182.399994</td>\n",
       "      <td>106.500000</td>\n",
       "    </tr>\n",
       "    <tr>\n",
       "      <th>41729</th>\n",
       "      <td>75</td>\n",
       "      <td>-21</td>\n",
       "      <td>-0.120000</td>\n",
       "      <td>0.0</td>\n",
       "      <td>3.0</td>\n",
       "      <td>3.0</td>\n",
       "      <td>2.0</td>\n",
       "      <td>1.0</td>\n",
       "      <td>1.0</td>\n",
       "      <td>2.0</td>\n",
       "      <td>0.077381</td>\n",
       "      <td>-0.75</td>\n",
       "      <td>0.000000</td>\n",
       "      <td>1.000000</td>\n",
       "      <td>0.0</td>\n",
       "      <td>0.026016</td>\n",
       "      <td>-3.2</td>\n",
       "      <td>2.0</td>\n",
       "      <td>0.1</td>\n",
       "      <td>1.8</td>\n",
       "      <td>0.3</td>\n",
       "      <td>3.0</td>\n",
       "      <td>2.8</td>\n",
       "      <td>2.7</td>\n",
       "      <td>5.2</td>\n",
       "      <td>0.000000</td>\n",
       "      <td>305.333344</td>\n",
       "    </tr>\n",
       "    <tr>\n",
       "      <th>6037</th>\n",
       "      <td>611</td>\n",
       "      <td>10</td>\n",
       "      <td>0.070423</td>\n",
       "      <td>0.0</td>\n",
       "      <td>2.0</td>\n",
       "      <td>0.0</td>\n",
       "      <td>0.0</td>\n",
       "      <td>1.0</td>\n",
       "      <td>0.0</td>\n",
       "      <td>0.0</td>\n",
       "      <td>0.000000</td>\n",
       "      <td>0.00</td>\n",
       "      <td>0.052632</td>\n",
       "      <td>0.500000</td>\n",
       "      <td>0.0</td>\n",
       "      <td>0.148780</td>\n",
       "      <td>4.6</td>\n",
       "      <td>-1.4</td>\n",
       "      <td>-0.9</td>\n",
       "      <td>4.4</td>\n",
       "      <td>2.5</td>\n",
       "      <td>4.5</td>\n",
       "      <td>2.2</td>\n",
       "      <td>2.4</td>\n",
       "      <td>7.4</td>\n",
       "      <td>174.666672</td>\n",
       "      <td>261.000000</td>\n",
       "    </tr>\n",
       "    <tr>\n",
       "      <th>23651</th>\n",
       "      <td>228</td>\n",
       "      <td>-2</td>\n",
       "      <td>-0.010204</td>\n",
       "      <td>0.0</td>\n",
       "      <td>-1.0</td>\n",
       "      <td>2.0</td>\n",
       "      <td>1.0</td>\n",
       "      <td>1.0</td>\n",
       "      <td>2.0</td>\n",
       "      <td>0.0</td>\n",
       "      <td>0.030952</td>\n",
       "      <td>0.50</td>\n",
       "      <td>0.000000</td>\n",
       "      <td>0.511111</td>\n",
       "      <td>1.0</td>\n",
       "      <td>0.582114</td>\n",
       "      <td>-2.5</td>\n",
       "      <td>-1.8</td>\n",
       "      <td>1.5</td>\n",
       "      <td>-1.6</td>\n",
       "      <td>1.0</td>\n",
       "      <td>-0.5</td>\n",
       "      <td>0.5</td>\n",
       "      <td>0.1</td>\n",
       "      <td>-2.1</td>\n",
       "      <td>141.333328</td>\n",
       "      <td>147.199997</td>\n",
       "    </tr>\n",
       "    <tr>\n",
       "      <th>56863</th>\n",
       "      <td>34</td>\n",
       "      <td>-15</td>\n",
       "      <td>-0.082873</td>\n",
       "      <td>0.0</td>\n",
       "      <td>-2.0</td>\n",
       "      <td>2.0</td>\n",
       "      <td>0.0</td>\n",
       "      <td>0.0</td>\n",
       "      <td>2.0</td>\n",
       "      <td>-3.0</td>\n",
       "      <td>0.212121</td>\n",
       "      <td>0.75</td>\n",
       "      <td>0.000000</td>\n",
       "      <td>0.593750</td>\n",
       "      <td>0.0</td>\n",
       "      <td>0.397561</td>\n",
       "      <td>-6.9</td>\n",
       "      <td>-1.1</td>\n",
       "      <td>-0.7</td>\n",
       "      <td>5.3</td>\n",
       "      <td>3.7</td>\n",
       "      <td>5.5</td>\n",
       "      <td>1.4</td>\n",
       "      <td>2.1</td>\n",
       "      <td>6.5</td>\n",
       "      <td>154.000000</td>\n",
       "      <td>267.666656</td>\n",
       "    </tr>\n",
       "  </tbody>\n",
       "</table>\n",
       "</div>"
      ],
      "text/plain": [
       "       remaining_time  score_difference  score_diff_percentile  in_violations  \\\n",
       "35500             422                -6              -0.031250            0.0   \n",
       "41729              75               -21              -0.120000            0.0   \n",
       "6037              611                10               0.070423            0.0   \n",
       "23651             228                -2              -0.010204            0.0   \n",
       "56863              34               -15              -0.082873            0.0   \n",
       "\n",
       "       in_rebound  in_hfouls  in_hshoot_fouls  in_afouls  in_ashoot_fouls  \\\n",
       "35500         1.0        2.0              1.0        0.0              1.0   \n",
       "41729         3.0        3.0              2.0        1.0              1.0   \n",
       "6037          2.0        0.0              0.0        1.0              0.0   \n",
       "23651        -1.0        2.0              1.0        1.0              2.0   \n",
       "56863        -2.0        2.0              0.0        0.0              2.0   \n",
       "\n",
       "       in_turnover  in_shot_accuracy  in_ft_accuracy  in_momentum  \\\n",
       "35500          1.0          0.238636            0.00    -0.142857   \n",
       "41729          2.0          0.077381           -0.75     0.000000   \n",
       "6037           0.0          0.000000            0.00     0.052632   \n",
       "23651          0.0          0.030952            0.50     0.000000   \n",
       "56863         -3.0          0.212121            0.75     0.000000   \n",
       "\n",
       "       total_win_ratio  home_away_win_ratio  nth_game_season  pre_PACE  \\\n",
       "35500         0.492958                  0.0         0.872358      -1.0   \n",
       "41729         1.000000                  0.0         0.026016      -3.2   \n",
       "6037          0.500000                  0.0         0.148780       4.6   \n",
       "23651         0.511111                  1.0         0.582114      -2.5   \n",
       "56863         0.593750                  0.0         0.397561      -6.9   \n",
       "\n",
       "       pre_AST  pre_TO  pre_ORR  pre_DRR  pre_EFF_FG  pre_TS  pre_OFF_EFF  \\\n",
       "35500      1.8     0.3     -1.7      5.7         3.3     3.1          1.7   \n",
       "41729      2.0     0.1      1.8      0.3         3.0     2.8          2.7   \n",
       "6037      -1.4    -0.9      4.4      2.5         4.5     2.2          2.4   \n",
       "23651     -1.8     1.5     -1.6      1.0        -0.5     0.5          0.1   \n",
       "56863     -1.1    -0.7      5.3      3.7         5.5     1.4          2.1   \n",
       "\n",
       "       pre_DEF_EFF   home_rank   away_rank  \n",
       "35500          2.0  182.399994  106.500000  \n",
       "41729          5.2    0.000000  305.333344  \n",
       "6037           7.4  174.666672  261.000000  \n",
       "23651         -2.1  141.333328  147.199997  \n",
       "56863          6.5  154.000000  267.666656  "
      ]
     },
     "execution_count": 38,
     "metadata": {},
     "output_type": "execute_result"
    }
   ],
   "source": [
    "entire_data.head()"
   ]
  },
  {
   "cell_type": "code",
   "execution_count": 24,
   "metadata": {},
   "outputs": [
    {
     "data": {
      "image/png": "[encoded data removed]",
      "text/plain": [
       "<matplotlib.figure.Figure at 0x1e79885c668>"
      ]
     },
     "metadata": {},
     "output_type": "display_data"
    }
   ],
   "source": [
    "fig = plt.figure(figsize=(12,8))\n",
    "ax = fig.gca()\n",
    "xgb.plot_importance(xgbmodel, ax=ax)\n",
    "plt.show()"
   ]
  },
  {
   "cell_type": "code",
   "execution_count": 23,
   "metadata": {
    "collapsed": true
   },
   "outputs": [],
   "source": [
    "# Saving the xgbmodel to reuse\n",
    "xgbmodel.save_model('xgb.model')\n",
    "xgbmodel.dump_model('dump.raw.txt','featmap.txt')"
   ]
  },
  {
   "cell_type": "code",
   "execution_count": 39,
   "metadata": {},
   "outputs": [
    {
     "data": {
      "text/plain": [
       "Index(['remaining_time', 'score_difference', 'score_diff_percentile',\n",
       "       'in_violations', 'in_rebound', 'in_hfouls', 'in_hshoot_fouls',\n",
       "       'in_afouls', 'in_ashoot_fouls', 'in_turnover', 'in_shot_accuracy',\n",
       "       'in_ft_accuracy', 'in_momentum', 'total_win_ratio',\n",
       "       'home_away_win_ratio', 'nth_game_season', 'pre_PACE', 'pre_AST',\n",
       "       'pre_TO', 'pre_ORR', 'pre_DRR', 'pre_EFF_FG', 'pre_TS', 'pre_OFF_EFF',\n",
       "       'pre_DEF_EFF', 'home_rank', 'away_rank'],\n",
       "      dtype='object')"
      ]
     },
     "execution_count": 39,
     "metadata": {},
     "output_type": "execute_result"
    }
   ],
   "source": [
    "entire_data.columns"
   ]
  },
  {
   "cell_type": "code",
   "execution_count": 34,
   "metadata": {},
   "outputs": [],
   "source": [
    "filename = \"strat_sample.csv\"\n",
    "strat_sample.to_csv(filename)\n"
   ]
  },
  {
   "cell_type": "code",
   "execution_count": null,
   "metadata": {
    "collapsed": true
   },
   "outputs": [],
   "source": []
  }
 ],
 "metadata": {
  "anaconda-cloud": {},
  "hide_code_all_hidden": false,
  "kernelspec": {
   "display_name": "Python [conda root]",
   "language": "python",
   "name": "conda-root-py"
  },
  "language_info": {
   "codemirror_mode": {
    "name": "ipython",
    "version": 3
   },
   "file_extension": ".py",
   "mimetype": "text/x-python",
   "name": "python",
   "nbconvert_exporter": "python",
   "pygments_lexer": "ipython3",
   "version": "3.5.3"
  }
 },
 "nbformat": 4,
 "nbformat_minor": 1
}
